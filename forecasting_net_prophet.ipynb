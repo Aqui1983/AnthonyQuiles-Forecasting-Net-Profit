{
  "cells": [
    {
      "cell_type": "markdown",
      "metadata": {
        "id": "view-in-github",
        "colab_type": "text"
      },
      "source": [
        "<a href=\"https://colab.research.google.com/github/Aqui1983/Module-11-Homework/blob/main/forecasting_net_prophet.ipynb\" target=\"_parent\"><img src=\"https://colab.research.google.com/assets/colab-badge.svg\" alt=\"Open In Colab\"/></a>"
      ]
    },
    {
      "cell_type": "markdown",
      "metadata": {
        "id": "XxufgGeAyhGf"
      },
      "source": [
        "# Forecasting Net Prophet\n",
        "\n",
        "You’re a growth analyst at [MercadoLibre](http://investor.mercadolibre.com/investor-relations). With over 200 million users, MercadoLibre is the most popular e-commerce site in Latin America. You've been tasked with analyzing the company's financial and user data in clever ways to make the company grow. So, you want to find out if the ability to predict search traffic can translate into the ability to successfully trade the stock.\n",
        "\n",
        "Instructions\n",
        "\n",
        "This section divides the instructions for this Challenge into four steps and an optional fifth step, as follows:\n",
        "\n",
        "* Step 1: Find unusual patterns in hourly Google search traffic\n",
        "\n",
        "* Step 2: Mine the search traffic data for seasonality\n",
        "\n",
        "* Step 3: Relate the search traffic to stock price patterns\n",
        "\n",
        "* Step 4: Create a time series model with Prophet\n",
        "\n",
        "* Step 5 (optional): Forecast revenue by using time series models\n",
        "\n",
        "The following subsections detail these steps.\n",
        "\n",
        "## Step 1: Find Unusual Patterns in Hourly Google Search Traffic\n",
        "\n",
        "The data science manager asks if the Google search traffic for the company links to any financial events at the company. Or, does the search traffic data just present random noise? To answer this question, pick out any unusual patterns in the Google search data for the company, and connect them to the corporate financial events.\n",
        "\n",
        "To do so, complete the following steps:\n",
        "\n",
        "1. Read the search data into a DataFrame, and then slice the data to just the month of May 2020. (During this month, MercadoLibre released its quarterly financial results.) Use hvPlot to visualize the results. Do any unusual patterns exist?\n",
        "\n",
        "2. Calculate the total search traffic for the month, and then compare the value to the monthly median across all months. Did the Google search traffic increase during the month that MercadoLibre released its financial results?\n",
        "\n",
        "## Step 2: Mine the Search Traffic Data for Seasonality\n",
        "\n",
        "Marketing realizes that they can use the hourly search data, too. If they can track and predict interest in the company and its platform for any time of day, they can focus their marketing efforts around the times that have the most traffic. This will get a greater return on investment (ROI) from their marketing budget.\n",
        "\n",
        "To that end, you want to mine the search traffic data for predictable seasonal patterns of interest in the company. To do so, complete the following steps:\n",
        "\n",
        "1. Group the hourly search data to plot the average traffic by the day of the week (for example, Monday vs. Friday).\n",
        "\n",
        "2. Using hvPlot, visualize this traffic as a heatmap, referencing the `index.hour` as the x-axis and the `index.dayofweek` as the y-axis. Does any day-of-week effect that you observe concentrate in just a few hours of that day?\n",
        "\n",
        "3. Group the search data by the week of the year. Does the search traffic tend to increase during the winter holiday period (weeks 40 through 52)?\n",
        "\n",
        "## Step 3: Relate the Search Traffic to Stock Price Patterns\n",
        "\n",
        "You mention your work on the search traffic data during a meeting with people in the finance group at the company. They want to know if any relationship between the search data and the company stock price exists, and they ask if you can investigate.\n",
        "\n",
        "To do so, complete the following steps:\n",
        "\n",
        "1. Read in and plot the stock price data. Concatenate the stock price data to the search data in a single DataFrame.\n",
        "\n",
        "2. Market events emerged during the year of 2020 that many companies found difficult. But, after the initial shock to global financial markets, new customers and revenue increased for e-commerce platforms. Slice the data to just the first half of 2020 (`2020-01` to `2020-06` in the DataFrame), and then use hvPlot to plot the data. Do both time series indicate a common trend that’s consistent with this narrative?\n",
        "\n",
        "3. Create a new column in the DataFrame named “Lagged Search Trends” that offsets, or shifts, the search traffic by one hour. Create two additional columns:\n",
        "\n",
        "    * “Stock Volatility”, which holds an exponentially weighted four-hour rolling average of the company’s stock volatility\n",
        "\n",
        "    * “Hourly Stock Return”, which holds the percent change of the company's stock price on an hourly basis\n",
        "\n",
        "4. Review the time series correlation, and then answer the following question: Does a predictable relationship exist between the lagged search traffic and the stock volatility or between the lagged search traffic and the stock price returns?\n",
        "\n",
        "## Step 4: Create a Time Series Model with Prophet\n",
        "\n",
        "Now, you need to produce a time series model that analyzes and forecasts patterns in the hourly search data. To do so, complete the following steps:\n",
        "\n",
        "1. Set up the Google search data for a Prophet forecasting model.\n",
        "\n",
        "2. After estimating the model, plot the forecast. How's the near-term forecast for the popularity of MercadoLibre?\n",
        "\n",
        "3. Plot the individual time series components of the model to answer the following questions:\n",
        "\n",
        "    * What time of day exhibits the greatest popularity?\n",
        "\n",
        "    * Which day of the week gets the most search traffic?\n",
        "\n",
        "    * What's the lowest point for search traffic in the calendar year?\n",
        "\n",
        "## Step 5 (Optional): Forecast Revenue by Using Time Series Models\n",
        "\n",
        "A few weeks after your initial analysis, the finance group follows up to find out if you can help them solve a different problem. Your fame as a growth analyst in the company continues to grow!\n",
        "\n",
        "Specifically, the finance group wants a forecast of the total sales for the next quarter. This will dramatically increase their ability to plan budgets and to help guide expectations for the company investors.\n",
        "\n",
        "To do so, complete the following steps:\n",
        "\n",
        "1. Read in the daily historical sales (that is, revenue) figures, and then apply a Prophet model to the data.\n",
        "\n",
        "2. Interpret the model output to identify any seasonal patterns in the company's revenue. For example, what are the peak revenue days? (Mondays? Fridays? Something else?)\n",
        "\n",
        "3. Produce a sales forecast for the finance group. Give them a number for the expected total sales in the next quarter. Include the best- and worst-case scenarios to help them make better plans.\n"
      ]
    },
    {
      "cell_type": "markdown",
      "metadata": {
        "id": "B3KwlsaIyhGh"
      },
      "source": [
        "## Install and import the required libraries and dependencies"
      ]
    },
    {
      "cell_type": "code",
      "execution_count": null,
      "metadata": {
        "id": "_urZ1ZVDyhGi"
      },
      "outputs": [],
      "source": [
        "# Install the required libraries\n",
        "# Adding this bit of code to cleanup the installs from being visible on the page after it is finished.\n",
        "from IPython.display import clear_output\n",
        "try:\n",
        "  !pip install pystan\n",
        "  !pip install prophet\n",
        "  !pip install hvplot\n",
        "  !pip install holoviews\n",
        "except:\n",
        "  print('Error installing some libraries')\n",
        "finally:\n",
        "  clear_output()\n",
        "  print('libraries installed')"
      ]
    },
    {
      "cell_type": "code",
      "execution_count": null,
      "metadata": {
        "id": "A46qh92uyhGj"
      },
      "outputs": [],
      "source": [
        "# Import the required libraries and dependencies\n",
        "import pandas as pd\n",
        "import holoviews as hv\n",
        "import numpy as np\n",
        "from prophet import Prophet\n",
        "import hvplot.pandas\n",
        "import datetime as dt\n",
        "%matplotlib inline"
      ]
    },
    {
      "cell_type": "markdown",
      "metadata": {
        "id": "kaalqWHlyhGk"
      },
      "source": [
        "## Step 1: Find Unusual Patterns in Hourly Google Search Traffic\n",
        "\n",
        "The data science manager asks if the Google search traffic for the company links to any financial events at the company. Or, does the search traffic data just present random noise? To answer this question, pick out any unusual patterns in the Google search data for the company, and connect them to the corporate financial events.\n",
        "\n",
        "To do so, complete the following steps:\n",
        "\n",
        "1. Read the search data into a DataFrame, and then slice the data to just the month of May 2020. (During this month, MercadoLibre released its quarterly financial results.) Use hvPlot to visualize the results. Do any unusual patterns exist?\n",
        "\n",
        "2. Calculate the total search traffic for the month, and then compare the value to the monthly median across all months. Did the Google search traffic increase during the month that MercadoLibre released its financial results?\n"
      ]
    },
    {
      "cell_type": "markdown",
      "metadata": {
        "id": "98E8LM7kyhGk"
      },
      "source": [
        "#### Step 1: Read the search data into a DataFrame, and then slice the data to just the month of May 2020. (During this month, MercadoLibre released its quarterly financial results.) Use hvPlot to visualize the results. Do any unusual patterns exist?"
      ]
    },
    {
      "cell_type": "code",
      "execution_count": null,
      "metadata": {
        "id": "nZEy8AGXyhGl"
      },
      "outputs": [],
      "source": [
        "# Upload the \"google_hourly_search_trends.csv\" file into Colab, then store in a Pandas DataFrame\n",
        "# Set the \"Date\" column as the Datetime Index.\n",
        "\n",
        "df_mercado_trends = pd.read_csv('/content/google_hourly_search_trends.csv',\n",
        "                                index_col='Date',\n",
        "                                infer_datetime_format=True,\n",
        "                                parse_dates=True\n",
        "                                )\n",
        "\n",
        "# Review the first and last five rows of the DataFrame\n",
        "df_mercado_trends.head()"
      ]
    },
    {
      "cell_type": "code",
      "execution_count": null,
      "metadata": {
        "id": "IPDsv69NyhGl"
      },
      "outputs": [],
      "source": [
        "# Review the data types of the DataFrame using the info function\n",
        "df_mercado_trends.info()"
      ]
    },
    {
      "cell_type": "code",
      "execution_count": null,
      "metadata": {
        "id": "jK312REFyhGl"
      },
      "outputs": [],
      "source": [
        "# Holoviews extension to render hvPlots in Colab\n",
        "hv.extension('bokeh')\n",
        "\n",
        "# Slice the DataFrame to just the month of May 2020\n",
        "df_may_2020 = df_mercado_trends[\"2020-5\"]\n",
        "\n",
        "# Use hvPlot to visualize the data for May 2020\n",
        "df_may_2020.hvplot(title='Search Traffic for May 2020')"
      ]
    },
    {
      "cell_type": "markdown",
      "metadata": {
        "id": "1HmPLEYSyhGm"
      },
      "source": [
        "#### Step 2: Calculate the total search traffic for the month, and then compare the value to the monthly median across all months. Did the Google search traffic increase during the month that MercadoLibre released its financial results?"
      ]
    },
    {
      "cell_type": "code",
      "execution_count": null,
      "metadata": {
        "id": "vu0iIU-QyhGm"
      },
      "outputs": [],
      "source": [
        "# Calculate the sum of the total search traffic for May 2020\n",
        "traffic_may_2020 = df_may_2020['Search Trends'].sum()\n",
        "\n",
        "# View the traffic_may_2020 value\n",
        "traffic_may_2020"
      ]
    },
    {
      "cell_type": "code",
      "execution_count": null,
      "metadata": {
        "id": "0OyhOhpZyhGn"
      },
      "outputs": [],
      "source": [
        "# Calcluate the monhtly median search traffic across all months \n",
        "# Group the DataFrame by index year and then index month, chain the sum and then the median functions\n",
        "median_monthly_traffic = df_mercado_trends['Search Trends'].groupby(by=\n",
        "                                                   [df_mercado_trends.index.year,df_mercado_trends.index.month]\n",
        "                                                   ).sum().mean()\n",
        "\n",
        "# View the median_monthly_traffic value\n",
        "median_monthly_traffic"
      ]
    },
    {
      "cell_type": "code",
      "execution_count": null,
      "metadata": {
        "id": "3hWVVxAryhGn"
      },
      "outputs": [],
      "source": [
        "# Compare the seach traffic for the month of May 2020 to the overall monthly median value\n",
        "print(f'Search traffic for May 2020 is {traffic_may_2020}')\n",
        "print(f'Average monthly search traffic is {median_monthly_traffic}')\n"
      ]
    },
    {
      "cell_type": "markdown",
      "metadata": {
        "id": "kZpl2ctSyhGo"
      },
      "source": [
        "##### Answer the following question: "
      ]
    },
    {
      "cell_type": "markdown",
      "metadata": {
        "id": "q85wMK6qyhGo"
      },
      "source": [
        "**Question:** Did the Google search traffic increase during the month that MercadoLibre released its financial results?\n",
        "\n",
        "**Answer:** The Google search traffic increased during the month that MercadoLibre released its financial results compared to the monthly average traffic."
      ]
    },
    {
      "cell_type": "markdown",
      "metadata": {
        "id": "GSSD71BQyhGo"
      },
      "source": [
        "## Step 2: Mine the Search Traffic Data for Seasonality\n",
        "\n",
        "Marketing realizes that they can use the hourly search data, too. If they can track and predict interest in the company and its platform for any time of day, they can focus their marketing efforts around the times that have the most traffic. This will get a greater return on investment (ROI) from their marketing budget.\n",
        "\n",
        "To that end, you want to mine the search traffic data for predictable seasonal patterns of interest in the company. To do so, complete the following steps:\n",
        "\n",
        "1. Group the hourly search data to plot the average traffic by the day of the week (for example, Monday vs. Friday).\n",
        "\n",
        "2. Using hvPlot, visualize this traffic as a heatmap, referencing the `index.hour` as the x-axis and the `index.dayofweek` as the y-axis. Does any day-of-week effect that you observe concentrate in just a few hours of that day?\n",
        "\n",
        "3. Group the search data by the week of the year. Does the search traffic tend to increase during the winter holiday period (weeks 40 through 52)?\n"
      ]
    },
    {
      "cell_type": "markdown",
      "metadata": {
        "id": "mC8Vj0_OyhGp"
      },
      "source": [
        "#### Step 1: Group the hourly search data to plot the average traffic by the day of the week (for example, Monday vs. Friday)."
      ]
    },
    {
      "cell_type": "code",
      "execution_count": null,
      "metadata": {
        "id": "Z7Ba0aHeyhGp"
      },
      "outputs": [],
      "source": [
        "# Holoviews extension to render hvPlots in Colab\n",
        "hv.extension('bokeh')\n",
        "\n",
        "# Group the hourly search data to plot (use hvPlot) the average traffic by the day of week \n",
        "daily_search_traffic_df = df_mercado_trends.groupby(by=[df_mercado_trends.index.day_of_week]).mean()\n",
        "\n",
        "daily_search_traffic_df.hvplot(title='Average search traffic by day of week')"
      ]
    },
    {
      "cell_type": "markdown",
      "metadata": {
        "id": "ByaIdTNRyhGq"
      },
      "source": [
        "#### Step 2: Using hvPlot, visualize this traffic as a heatmap, referencing the `index.hour` as the x-axis and the `index.dayofweek` as the y-axis. Does any day-of-week effect that you observe concentrate in just a few hours of that day?"
      ]
    },
    {
      "cell_type": "code",
      "execution_count": null,
      "metadata": {
        "id": "JB2fbnu-yhGq"
      },
      "outputs": [],
      "source": [
        "from pandas.core.window.expanding import Axis\n",
        "# Holoviews extension to render hvPlots in Colab\n",
        "hv.extension('bokeh')\n",
        "\n",
        "# Use hvPlot to visualize the hour of the day and day of week search traffic as a heatmap.\n",
        "df_mercado_trends.hvplot.heatmap(\n",
        "    title='Daily search traffic by hour',\n",
        "    x = 'index.hour',\n",
        "    y = 'index.day_of_week',\n",
        "    C = 'Search Trends'\n",
        ")"
      ]
    },
    {
      "cell_type": "markdown",
      "metadata": {
        "id": "dU6EgYfRyhGr"
      },
      "source": [
        "##### Answer the following question:"
      ]
    },
    {
      "cell_type": "markdown",
      "metadata": {
        "id": "PpuDJJHYyhGr"
      },
      "source": [
        "**Question:** Does any day-of-week effect that you observe concentrate in just a few hours of that day?\n",
        "\n",
        "**Answer:** I fell that most days have a a drastic increase in search trends at around 10PM and the have a sharp decrease around 3AM"
      ]
    },
    {
      "cell_type": "markdown",
      "metadata": {
        "id": "8ebVxHVeyhGr"
      },
      "source": [
        "#### Step 3: Group the search data by the week of the year. Does the search traffic tend to increase during the winter holiday period (weeks 40 through 52)?"
      ]
    },
    {
      "cell_type": "code",
      "execution_count": null,
      "metadata": {
        "id": "fuQF09-zyhGs"
      },
      "outputs": [],
      "source": [
        "# Holoviews extension to render hvPlots in Colab\n",
        "hv.extension('bokeh')\n",
        "\n",
        "# Group the hourly search data to plot (use hvPlot) the average traffic by the week of the year\n",
        "weekly_search_traffic_df = df_mercado_trends.groupby(by=[df_mercado_trends.index.weekofyear]).mean().iloc[-13:,:].hvplot(\n",
        "    x='index.weekofyear'\n",
        ")\n",
        "\n",
        "weekly_search_traffic_df"
      ]
    },
    {
      "cell_type": "markdown",
      "metadata": {
        "id": "rxAicQiUyhGs"
      },
      "source": [
        "##### Answer the following question:"
      ]
    },
    {
      "cell_type": "markdown",
      "metadata": {
        "id": "ntp7L85tyhGt"
      },
      "source": [
        "**Question:** Does the search traffic tend to increase during the winter holiday period (weeks 40 through 52)?\n",
        "\n",
        "**Answer:** The search traffic appears to trend upwards during October and November and then takes a big dip right before the end of the year."
      ]
    },
    {
      "cell_type": "markdown",
      "metadata": {
        "id": "VrWuFy9syhGt"
      },
      "source": [
        "## Step 3: Relate the Search Traffic to Stock Price Patterns\n",
        "\n",
        "You mention your work on the search traffic data during a meeting with people in the finance group at the company. They want to know if any relationship between the search data and the company stock price exists, and they ask if you can investigate.\n",
        "\n",
        "To do so, complete the following steps:\n",
        "\n",
        "1. Read in and plot the stock price data. Concatenate the stock price data to the search data in a single DataFrame.\n",
        "\n",
        "2. Market events emerged during the year of 2020 that many companies found difficult. But, after the initial shock to global financial markets, new customers and revenue increased for e-commerce platforms. Slice the data to just the first half of 2020 (`2020-01` to `2020-06` in the DataFrame), and then use hvPlot to plot the data. Do both time series indicate a common trend that’s consistent with this narrative?\n",
        "\n",
        "3. Create a new column in the DataFrame named “Lagged Search Trends” that offsets, or shifts, the search traffic by one hour. Create two additional columns:\n",
        "\n",
        "    * “Stock Volatility”, which holds an exponentially weighted four-hour rolling average of the company’s stock volatility\n",
        "\n",
        "    * “Hourly Stock Return”, which holds the percent change of the company's stock price on an hourly basis\n",
        "\n",
        "4. Review the time series correlation, and then answer the following question: Does a predictable relationship exist between the lagged search traffic and the stock volatility or between the lagged search traffic and the stock price returns?\n"
      ]
    },
    {
      "cell_type": "markdown",
      "metadata": {
        "id": "xDPt_TZcyhGu"
      },
      "source": [
        "#### Step 1: Read in and plot the stock price data. Concatenate the stock price data to the search data in a single DataFrame."
      ]
    },
    {
      "cell_type": "code",
      "execution_count": null,
      "metadata": {
        "id": "b8vsqP8VyhGu"
      },
      "outputs": [],
      "source": [
        "# Upload the \"mercado_stock_price.csv\" file into Colab, then store in a Pandas DataFrame\n",
        "# Set the \"date\" column as the Datetime Index.\n",
        "\n",
        "df_mercado_stock = pd.read_csv('/content/mercado_stock_price.csv',\n",
        "                                index_col='date',\n",
        "                                infer_datetime_format=True,\n",
        "                                parse_dates=True\n",
        "                                )\n",
        "\n",
        "# View the first and last five rows of the DataFrame\n",
        "df_mercado_stock.head()"
      ]
    },
    {
      "cell_type": "code",
      "execution_count": null,
      "metadata": {
        "id": "Wi8Ex3layhGu"
      },
      "outputs": [],
      "source": [
        "# Holoviews extension to render hvPlots in Colab\n",
        "hv.extension('bokeh')\n",
        "\n",
        "# Use hvPlot to visualize the closing price of the df_mercado_stock DataFrame\n",
        "df_mercado_stock.hvplot()"
      ]
    },
    {
      "cell_type": "code",
      "execution_count": null,
      "metadata": {
        "id": "DWvHCbetyhGu"
      },
      "outputs": [],
      "source": [
        "# Concatenate the df_mercado_stock DataFrame with the df_mercado_trends DataFrame\n",
        "# Concatenate the DataFrame by columns (axis=1), and drop and rows with only one column of data\n",
        "mercado_stock_trends_df = pd.concat([df_mercado_stock,df_mercado_trends],axis=1).dropna()\n",
        "\n",
        "# View the first and last five rows of the DataFrame\n",
        "mercado_stock_trends_df"
      ]
    },
    {
      "cell_type": "markdown",
      "metadata": {
        "id": "wREUgLbwyhGv"
      },
      "source": [
        "#### Step 2: Market events emerged during the year of 2020 that many companies found difficult. But, after the initial shock to global financial markets, new customers and revenue increased for e-commerce platforms. Slice the data to just the first half of 2020 (`2020-01` to `2020-06` in the DataFrame), and then use hvPlot to plot the data. Do both time series indicate a common trend that’s consistent with this narrative?"
      ]
    },
    {
      "cell_type": "code",
      "execution_count": null,
      "metadata": {
        "id": "0RZV3KFxyhGv"
      },
      "outputs": [],
      "source": [
        "# For the combined dataframe, slice to just the first half of 2020 (2020-01 through 2020-06) \n",
        "first_half_2020 = mercado_stock_trends_df.loc['2020-01':'2020-06']\n",
        "\n",
        "# View the first and last five rows of first_half_2020 DataFrame\n",
        "display(first_half_2020.head())\n",
        "display(first_half_2020.tail())"
      ]
    },
    {
      "cell_type": "code",
      "execution_count": null,
      "metadata": {
        "id": "JGz7eCZAyhGv"
      },
      "outputs": [],
      "source": [
        "# Holoviews extension to render hvPlots in Colab\n",
        "hv.extension('bokeh')\n",
        "\n",
        "# Use hvPlot to visualize the close and Search Trends data\n",
        "# Plot each column on a separate axes using the following syntax\n",
        "# `hvplot(shared_axes=False, subplots=True).cols(1)`\n",
        "first_half_2020.hvplot(\n",
        "    shared_axes=False,\n",
        "    subplots=True).cols(1)"
      ]
    },
    {
      "cell_type": "code",
      "source": [],
      "metadata": {
        "id": "l0Lwp-AOsCbC"
      },
      "execution_count": null,
      "outputs": []
    },
    {
      "cell_type": "markdown",
      "metadata": {
        "id": "MdTqeLSmyhGw"
      },
      "source": [
        "##### Answer the following question:"
      ]
    },
    {
      "cell_type": "markdown",
      "metadata": {
        "id": "O-V-BiJuyhGw"
      },
      "source": [
        "**Question:** Do both time series indicate a common trend that’s consistent with this narrative?\n",
        "\n",
        "**Answer:** It looks as there are common trends that do support this narrative, starting with the lockdowns in march of 2020 yopu see a dramatic fall off in stock price and search trends. It is then followed by a steady and consistent up tick with matching spikes is stock price and search trends."
      ]
    },
    {
      "cell_type": "markdown",
      "metadata": {
        "id": "5mS7mSecyhGw"
      },
      "source": [
        "#### Step 3: Create a new column in the DataFrame named “Lagged Search Trends” that offsets, or shifts, the search traffic by one hour. Create two additional columns:\n",
        "\n",
        "* “Stock Volatility”, which holds an exponentially weighted four-hour rolling average of the company’s stock volatility\n",
        "\n",
        "* “Hourly Stock Return”, which holds the percent change of the company's stock price on an hourly basis\n"
      ]
    },
    {
      "cell_type": "code",
      "execution_count": null,
      "metadata": {
        "id": "-asBevNGyhGw"
      },
      "outputs": [],
      "source": [
        "# Create a new column in the mercado_stock_trends_df DataFrame called Lagged Search Trends\n",
        "# This column should shift the Search Trends information by one hour\n",
        "mercado_stock_trends_df['Lagged Search Trends'] = mercado_stock_trends_df['Search Trends'].shift(1)\n"
      ]
    },
    {
      "cell_type": "code",
      "execution_count": null,
      "metadata": {
        "id": "q6igfJ-qyhGw"
      },
      "outputs": [],
      "source": [
        "# Create a new column in the mercado_stock_trends_df DataFrame called Stock Volatility\n",
        "# This column should calculate the standard deviation of the closing stock price return data over a 4 period rolling window\n",
        "mercado_stock_trends_df['Stock Volatility'] = mercado_stock_trends_df[\"close\"].pct_change().rolling(window=4).std()\n"
      ]
    },
    {
      "cell_type": "code",
      "execution_count": null,
      "metadata": {
        "id": "4WL8MgyMyhGx"
      },
      "outputs": [],
      "source": [
        "# Holoviews extension to render hvPlots in Colab\n",
        "hv.extension('bokeh')\n",
        "\n",
        "# Use hvPlot to visualize the stock volatility\n",
        "mercado_stock_trends_df['Stock Volatility'].hvplot()"
      ]
    },
    {
      "cell_type": "markdown",
      "metadata": {
        "id": "E_iGxB2EyhGx"
      },
      "source": [
        "**Solution Note:** Note how volatility spiked, and tended to stay high, during the first half of 2020. This is a common characteristic of volatility in stock returns worldwide: high volatility days tend to be followed by yet more high volatility days. When it rains, it pours."
      ]
    },
    {
      "cell_type": "code",
      "execution_count": null,
      "metadata": {
        "id": "yDptojSHyhGx"
      },
      "outputs": [],
      "source": [
        "# Create a new column in the mercado_stock_trends_df DataFrame called Hourly Stock Return\n",
        "# This column should calculate hourly return percentage of the closing price\n",
        "mercado_stock_trends_df['Hourly Stock Return'] = mercado_stock_trends_df['close'].pct_change()\n"
      ]
    },
    {
      "cell_type": "code",
      "execution_count": null,
      "metadata": {
        "id": "3m1wO_8HyhGx"
      },
      "outputs": [],
      "source": [
        "# View the first and last five rows of the mercado_stock_trends_df DataFrame\n",
        "display(mercado_stock_trends_df.head())\n",
        "display(mercado_stock_trends_df.tail())"
      ]
    },
    {
      "cell_type": "markdown",
      "metadata": {
        "id": "GYoo2O9NyhGx"
      },
      "source": [
        "#### Step 4: Review the time series correlation, and then answer the following question: Does a predictable relationship exist between the lagged search traffic and the stock volatility or between the lagged search traffic and the stock price returns?"
      ]
    },
    {
      "cell_type": "code",
      "execution_count": null,
      "metadata": {
        "id": "ouzifm7uyhGy"
      },
      "outputs": [],
      "source": [
        "# Construct correlation table of Stock Volatility, Lagged Search Trends, and Hourly Stock Return\n",
        "mercado_stock_trends_df[['Stock Volatility','Lagged Search Trends','Hourly Stock Return']].corr()"
      ]
    },
    {
      "cell_type": "markdown",
      "metadata": {
        "id": "m7Fs6gxTyhGy"
      },
      "source": [
        "##### Answer the following question:\n"
      ]
    },
    {
      "cell_type": "markdown",
      "metadata": {
        "id": "Bc0WTe9UyhGy"
      },
      "source": [
        "**Question:** Does a predictable relationship exist between the lagged search traffic and the stock volatility or between the lagged search traffic and the stock price returns?\n",
        "\n",
        "**Answer:** There is no evidence of a clear correlation between these time series."
      ]
    },
    {
      "cell_type": "markdown",
      "metadata": {
        "id": "reLZxLe1yhGy"
      },
      "source": [
        "## Step 4: Create a Time Series Model with Prophet\n",
        "\n",
        "Now, you need to produce a time series model that analyzes and forecasts patterns in the hourly search data. To do so, complete the following steps:\n",
        "\n",
        "1. Set up the Google search data for a Prophet forecasting model.\n",
        "\n",
        "2. After estimating the model, plot the forecast. How's the near-term forecast for the popularity of MercadoLibre?\n",
        "\n",
        "3. Plot the individual time series components of the model to answer the following questions:\n",
        "\n",
        "    * What time of day exhibits the greatest popularity?\n",
        "\n",
        "    * Which day of the week gets the most search traffic?\n",
        "\n",
        "    * What's the lowest point for search traffic in the calendar year?\n"
      ]
    },
    {
      "cell_type": "markdown",
      "metadata": {
        "id": "K0eK5TIRyhGy"
      },
      "source": [
        "#### Step 1: Set up the Google search data for a Prophet forecasting model."
      ]
    },
    {
      "cell_type": "code",
      "execution_count": null,
      "metadata": {
        "id": "NPGWp1x1yhGz"
      },
      "outputs": [],
      "source": [
        "# Using the df_mercado_trends DataFrame, reset the index so the date information is no longer the index\n",
        "mercado_prophet_df = df_mercado_trends.reset_index()\n",
        "\n",
        "# Label the columns ds and y so that the syntax is recognized by Prophet\n",
        "mercado_prophet_df = mercado_prophet_df.rename(columns={'Date':'ds','Search Trends':'y'})\n",
        "# Drop any NaN values from the prophet_df DataFrame\n",
        "mercado_prophet_df = mercado_prophet_df.dropna()\n",
        "\n",
        "# View the first and last five rows of the mercado_prophet_df DataFrame\n",
        "display(mercado_prophet_df.head())\n",
        "display(mercado_prophet_df.tail())\n"
      ]
    },
    {
      "cell_type": "code",
      "execution_count": null,
      "metadata": {
        "id": "MmaEe-wXyhGz"
      },
      "outputs": [],
      "source": [
        "# Call the Prophet function, store as an object\n",
        "model_mercado_trends = Prophet()\n"
      ]
    },
    {
      "cell_type": "code",
      "execution_count": null,
      "metadata": {
        "id": "0gJuYdFIyhGz"
      },
      "outputs": [],
      "source": [
        "# Fit the time-series model.\n",
        "model_mercado_trends.fit(mercado_prophet_df)\n"
      ]
    },
    {
      "cell_type": "code",
      "execution_count": null,
      "metadata": {
        "id": "vRh01GEdyhGz"
      },
      "outputs": [],
      "source": [
        "# Create a future dataframe to hold predictions\n",
        "# Make the prediction go out as far as 2000 hours (approx 80 days)\n",
        "future_mercado_trends = model_mercado_trends.make_future_dataframe(periods=2000,freq=\"H\")\n",
        "\n",
        "# View the last five rows of the future_mercado_trends DataFrame\n",
        "future_mercado_trends.tail()"
      ]
    },
    {
      "cell_type": "code",
      "execution_count": null,
      "metadata": {
        "id": "e0etRd4oyhGz"
      },
      "outputs": [],
      "source": [
        "# Make the predictions for the trend data using the future_mercado_trends DataFrame\n",
        "forecast_mercado_trends = model_mercado_trends.predict(future_mercado_trends)\n",
        "\n",
        "# Display the first five rows of the forecast_mercado_trends DataFrame\n",
        "forecast_mercado_trends.head()"
      ]
    },
    {
      "cell_type": "markdown",
      "metadata": {
        "id": "dPByE6IlyhG0"
      },
      "source": [
        "#### Step 2: After estimating the model, plot the forecast. How's the near-term forecast for the popularity of MercadoLibre?"
      ]
    },
    {
      "cell_type": "code",
      "execution_count": null,
      "metadata": {
        "id": "K4RqtrygyhG0"
      },
      "outputs": [],
      "source": [
        "# Plot the Prophet predictions for the Mercado trends data\n",
        "model_mercado_trends.plot(forecast_mercado_trends)"
      ]
    },
    {
      "cell_type": "markdown",
      "metadata": {
        "id": "CPDBc4nVyhG0"
      },
      "source": [
        "##### Answer the following question:"
      ]
    },
    {
      "cell_type": "markdown",
      "metadata": {
        "id": "jnWVbRkiyhG0"
      },
      "source": [
        "**Question:**  How's the near-term forecast for the popularity of MercadoLibre?\n",
        "\n",
        "**Answer:** The forecast for the near term of MercadoLibre is looking like its ooking like a downtrend in popularity.\n"
      ]
    },
    {
      "cell_type": "markdown",
      "metadata": {
        "id": "2HXoHy2YyhG0"
      },
      "source": [
        "#### Step 3: Plot the individual time series components of the model to answer the following questions:\n",
        "\n",
        "* What time of day exhibits the greatest popularity?\n",
        "\n",
        "* Which day of the week gets the most search traffic?\n",
        "\n",
        "* What's the lowest point for search traffic in the calendar year?\n"
      ]
    },
    {
      "cell_type": "code",
      "execution_count": null,
      "metadata": {
        "id": "ZSAAZ43cyhG1"
      },
      "outputs": [],
      "source": [
        "# Set the index in the forecast_mercado_trends DataFrame to the ds datetime column\n",
        "forecast_mercado_trends = forecast_mercado_trends.set_index('ds')\n",
        "\n",
        "# View the only the yhat,yhat_lower and yhat_upper columns from the DataFrame\n",
        "forecast_mercado_trends[['yhat','yhat_lower','yhat_upper']]"
      ]
    },
    {
      "cell_type": "markdown",
      "metadata": {
        "id": "k_QiNqwbyhG1"
      },
      "source": [
        "Solutions Note: `yhat` represents the most likely (average) forecast, whereas `yhat_lower` and `yhat_upper` represents the worst and best case prediction (based on what are known as 95% confidence intervals)."
      ]
    },
    {
      "cell_type": "code",
      "execution_count": null,
      "metadata": {
        "id": "S8yudrcEyhG1"
      },
      "outputs": [],
      "source": [
        "# Holoviews extension to render hvPlots in Colab\n",
        "hv.extension('bokeh')\n",
        "\n",
        "# From the forecast_mercado_trends DataFrame, use hvPlot to visualize\n",
        "#  the yhat, yhat_lower, and yhat_upper columns over the last 2000 hours \n",
        "forecast_mercado_trends[['yhat','yhat_lower','yhat_upper']].hvplot()"
      ]
    },
    {
      "cell_type": "code",
      "execution_count": null,
      "metadata": {
        "id": "w5fJJ5XKyhG1"
      },
      "outputs": [],
      "source": [
        "# Reset the index in the forecast_mercado_trends DataFrame\n",
        "forecast_mercado_trends = forecast_mercado_trends.reset_index('ds')\n",
        "\n",
        "# Use the plot_components function to visualize the forecast results \n",
        "# for the forecast_mercado DataFrame \n",
        "figures_mercado_trends = model_mercado_trends.plot_components(forecast_mercado_trends)\n"
      ]
    },
    {
      "cell_type": "markdown",
      "metadata": {
        "id": "BZ0siffzyhG2"
      },
      "source": [
        "##### Answer the following questions:"
      ]
    },
    {
      "cell_type": "markdown",
      "metadata": {
        "id": "44cq0_jwyhG2"
      },
      "source": [
        "**Question:** What time of day exhibits the greatest popularity?\n",
        "\n",
        "**Answer:** 12am sees the most traffic for the day."
      ]
    },
    {
      "cell_type": "markdown",
      "metadata": {
        "id": "S8qYeACqyhG2"
      },
      "source": [
        "**Question:** Which day of week gets the most search traffic? \n",
        "   \n",
        "**Answer:** Tuesday shows the most search traffic during the week."
      ]
    },
    {
      "cell_type": "markdown",
      "metadata": {
        "id": "PgHOe7O3yhG2"
      },
      "source": [
        "**Question:** What's the lowest point for search traffic in the calendar year?\n",
        "\n",
        "**Answer:** The lowest point for search traffic during the year is October.\n"
      ]
    },
    {
      "cell_type": "markdown",
      "metadata": {
        "id": "h_1q4UNoyhG3"
      },
      "source": [
        "## Step 5 (Optional): Forecast Revenue by Using Time Series Models\n",
        "\n",
        "A few weeks after your initial analysis, the finance group follows up to find out if you can help them solve a different problem. Your fame as a growth analyst in the company continues to grow!\n",
        "\n",
        "Specifically, the finance group wants a forecast of the total sales for the next quarter. This will dramatically increase their ability to plan budgets and to help guide expectations for the company investors.\n",
        "\n",
        "To do so, complete the following steps:\n",
        "\n",
        "1. Read in the daily historical sales (that is, revenue) figures, and then apply a Prophet model to the data. The daily sales figures are quoted in millions of USD dollars.\n",
        "\n",
        "2. Interpret the model output to identify any seasonal patterns in the company's revenue. For example, what are the peak revenue days? (Mondays? Fridays? Something else?)\n",
        "\n",
        "3. Produce a sales forecast for the finance group. Give them a number for the expected total sales in the next quarter. Include the best- and worst-case scenarios to help them make better plans.\n",
        "\n",
        "\n"
      ]
    },
    {
      "cell_type": "markdown",
      "metadata": {
        "id": "ahULwxbtyhG3"
      },
      "source": [
        "#### Step 1: Read in the daily historical sales (that is, revenue) figures, and then apply a Prophet model to the data."
      ]
    },
    {
      "cell_type": "code",
      "execution_count": null,
      "metadata": {
        "id": "1YTeHZd0yhG3"
      },
      "outputs": [],
      "source": [
        "# Upload the \"mercado_daily_revenue.csv\" file into Colab, then store in a Pandas DataFrame\n",
        "# Set the \"date\" column as the DatetimeIndex\n",
        "# Sales are quoted in millions of US dollars\n",
        "#from google.colab import files\n",
        "#uploaded = files.upload()\n",
        "\n",
        "df_mercado_sales = pd.read_csv('/content/mercado_daily_revenue.csv')\n",
        "# Review the DataFrame\n",
        "df_mercado_sales"
      ]
    },
    {
      "cell_type": "code",
      "execution_count": null,
      "metadata": {
        "id": "LiifzDHxyhG4"
      },
      "outputs": [],
      "source": [
        "# Holoviews extension to render hvPlots in Colab\n",
        "hv.extension('bokeh')\n",
        "\n",
        "# Use hvPlot to visualize the daily sales figures \n",
        "df_mercado_sales.hvplot()"
      ]
    },
    {
      "cell_type": "code",
      "execution_count": null,
      "metadata": {
        "id": "_1ymupCQyhG4"
      },
      "outputs": [],
      "source": [
        "# Apply a Facebook Prophet model to the data.\n",
        "\n",
        "# Set up the dataframe in the neccessary format:\n",
        "# Reset the index so that date becomes a column in the DataFrame\n",
        "mercado_sales_prophet_df = df_mercado_sales.reset_index(drop=True)\n",
        "# Adjust the columns names to the Prophet syntax\n",
        "mercado_sales_prophet_df.columns = ['ds','y']\n",
        "# Visualize the DataFrame\n",
        "mercado_sales_prophet_df"
      ]
    },
    {
      "cell_type": "code",
      "execution_count": null,
      "metadata": {
        "id": "KoPXPttwyhG4"
      },
      "outputs": [],
      "source": [
        "# Create the model\n",
        "mercado_sales_prophet_model = Prophet()\n",
        "\n",
        "# Fit the model\n",
        "mercado_sales_prophet_model.fit(mercado_sales_prophet_df)"
      ]
    },
    {
      "cell_type": "code",
      "execution_count": null,
      "metadata": {
        "id": "0G49mDs0yhG5"
      },
      "outputs": [],
      "source": [
        "# Predict sales for 90 days (1 quarter) out into the future.\n",
        "\n",
        "# Start by making a future dataframe\n",
        "mercado_sales_prophet_future = mercado_sales_prophet_model.make_future_dataframe(periods=90,freq=\"D\")\n",
        "\n",
        "# Display the last five rows of the future DataFrame\n",
        "mercado_sales_prophet_future.tail()"
      ]
    },
    {
      "cell_type": "code",
      "execution_count": null,
      "metadata": {
        "id": "UFzpcJzlyhG5"
      },
      "outputs": [],
      "source": [
        "# Make predictions for the sales each day over the next quarter\n",
        "mercado_sales_prophet_forecast = mercado_sales_prophet_model.predict(mercado_sales_prophet_future)\n",
        "# Display the first 5 rows of the resulting DataFrame\n",
        "mercado_sales_prophet_forecast.head()"
      ]
    },
    {
      "cell_type": "markdown",
      "metadata": {
        "id": "HKn03VwYyhG5"
      },
      "source": [
        "#### Step 2: Interpret the model output to identify any seasonal patterns in the company's revenue. For example, what are the peak revenue days? (Mondays? Fridays? Something else?)"
      ]
    },
    {
      "cell_type": "code",
      "execution_count": null,
      "metadata": {
        "id": "Qyoz-JrwyhG6"
      },
      "outputs": [],
      "source": [
        "# Use the plot_components function to analyze seasonal patterns in the company's revenue\n",
        "mercado_sales_prophet_figures = mercado_sales_prophet_model.plot_components(mercado_sales_prophet_forecast)"
      ]
    },
    {
      "cell_type": "markdown",
      "metadata": {
        "id": "Sir__pg_yhG6"
      },
      "source": [
        "##### Answer the following question:"
      ]
    },
    {
      "cell_type": "markdown",
      "metadata": {
        "id": "zYouzCDtyhG6"
      },
      "source": [
        "**Question:** For example, what are the peak revenue days? (Mondays? Fridays? Something else?)\n",
        "\n",
        "**Answer:** The peak revenue days are Monday, Tuesday and Wednesday with Wednesday being the highest."
      ]
    },
    {
      "cell_type": "markdown",
      "metadata": {
        "id": "QlVrvZvvyhG6"
      },
      "source": [
        "#### Step 3: Produce a sales forecast for the finance group. Give them a number for the expected total sales in the next quarter. Include the best- and worst-case scenarios to help them make better plans."
      ]
    },
    {
      "cell_type": "code",
      "execution_count": null,
      "metadata": {
        "id": "h8lKqUQJyhG7"
      },
      "outputs": [],
      "source": [
        "# Plot the predictions for the Mercado sales\n",
        "mercado_sales_prophet_model.plot(mercado_sales_prophet_forecast)\n"
      ]
    },
    {
      "cell_type": "code",
      "execution_count": null,
      "metadata": {
        "id": "o4_fvKwUyhG7"
      },
      "outputs": [],
      "source": [
        "# For the mercado_sales_prophet_forecast DataFrame, set the ds column as the DataFrame Index\n",
        "mercado_sales_prophet_forecast = mercado_sales_prophet_forecast.set_index('ds')\n",
        "\n",
        "# Display the first and last five rows of the DataFrame\n",
        "display(mercado_sales_prophet_forecast.head())\n",
        "display(mercado_sales_prophet_forecast.tail())"
      ]
    },
    {
      "cell_type": "code",
      "execution_count": null,
      "metadata": {
        "id": "xYrwW7dlyhG7"
      },
      "outputs": [],
      "source": [
        "# Produce a sales forecast for the finance division\n",
        "# giving them a number for expected total sales next quarter.\n",
        "# Provide best case (yhat_upper), worst case (yhat_lower), and most likely (yhat) scenarios.\n",
        "\n",
        "# Create a forecast_quarter Dataframe for the period 2020-07-01 to 2020-09-30\n",
        "# The DataFrame should include the columns yhat_upper, yhat_lower, and yhat\n",
        "mercado_sales_forecast_quarter = mercado_sales_prophet_forecast.loc['2020-07-01':'2020-09-30'][['yhat_upper','yhat_lower','yhat']]\n",
        "\n",
        "# Update the column names for the forecast_quarter DataFrame\n",
        "# to match what the finance division is looking for \n",
        "mercado_sales_forecast_quarter = mercado_sales_forecast_quarter.rename(columns={'yhat_upper':'Best Case','yhat_lower':'Worst Case','yhat':'Most Likely'})\n",
        "\n",
        "# Review the last five rows of the DataFrame\n",
        "mercado_sales_forecast_quarter.tail()"
      ]
    },
    {
      "cell_type": "code",
      "execution_count": null,
      "metadata": {
        "id": "w293F1AAyhG8"
      },
      "outputs": [],
      "source": [
        "# Displayed the summed values for all the rows in the forecast_quarter DataFrame\n",
        "mercado_sales_forecast_quarter.sum()\n"
      ]
    },
    {
      "cell_type": "markdown",
      "metadata": {
        "id": "ngnc3gGAyhG8"
      },
      "source": [
        "### Based on the forecast information generated above, produce a sales forecast for the finance division, giving them a number for expected total sales next quarter. Include best and worst case scenarios, to better help the finance team plan.\n",
        "\n",
        "**Answer:** Based on the predictive models that were created, I am forecasting 969.60 as the most likely outcome. I also have some additional scenarios to help you plan for the future, with a worst case scenario being 887.72 in sales and a best case scenario being 1051.47 in sales."
      ]
    },
    {
      "cell_type": "code",
      "execution_count": null,
      "metadata": {
        "id": "u8UAYWz6yhG8"
      },
      "outputs": [],
      "source": []
    }
  ],
  "metadata": {
    "kernelspec": {
      "display_name": "Python 3.10.5 64-bit",
      "language": "python",
      "name": "python3"
    },
    "language_info": {
      "codemirror_mode": {
        "name": "ipython",
        "version": 3
      },
      "file_extension": ".py",
      "mimetype": "text/x-python",
      "name": "python",
      "nbconvert_exporter": "python",
      "pygments_lexer": "ipython3",
      "version": "3.10.5"
    },
    "vscode": {
      "interpreter": {
        "hash": "aee8b7b246df8f9039afb4144a1f6fd8d2ca17a180786b69acc140d282b71a49"
      }
    },
    "colab": {
      "provenance": [],
      "include_colab_link": true
    }
  },
  "nbformat": 4,
  "nbformat_minor": 0
}